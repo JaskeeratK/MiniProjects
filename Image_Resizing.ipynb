{
  "nbformat": 4,
  "nbformat_minor": 0,
  "metadata": {
    "colab": {
      "provenance": [],
      "authorship_tag": "ABX9TyN/3Vv2GrJ9wD+rSoABNMGg",
      "include_colab_link": true
    },
    "kernelspec": {
      "name": "python3",
      "display_name": "Python 3"
    },
    "language_info": {
      "name": "python"
    }
  },
  "cells": [
    {
      "cell_type": "markdown",
      "metadata": {
        "id": "view-in-github",
        "colab_type": "text"
      },
      "source": [
        "<a href=\"https://colab.research.google.com/github/JaskeeratK/Image-Resizing-50-smaller-/blob/main/Image_Resizing.ipynb\" target=\"_parent\"><img src=\"https://colab.research.google.com/assets/colab-badge.svg\" alt=\"Open In Colab\"/></a>"
      ]
    },
    {
      "cell_type": "code",
      "execution_count": 16,
      "metadata": {
        "colab": {
          "base_uri": "https://localhost:8080/"
        },
        "id": "pMQjjOD05xnr",
        "outputId": "41762ef7-135b-431e-ffd6-462669972918"
      },
      "outputs": [
        {
          "output_type": "stream",
          "name": "stdout",
          "text": [
            "Requirement already satisfied: opencv-python in /usr/local/lib/python3.11/dist-packages (4.11.0.86)\n",
            "Requirement already satisfied: numpy>=1.21.2 in /usr/local/lib/python3.11/dist-packages (from opencv-python) (2.0.2)\n"
          ]
        }
      ],
      "source": [
        "! pip install opencv-python"
      ]
    },
    {
      "cell_type": "code",
      "source": [
        "import kagglehub\n",
        "import os\n",
        "# Download latest version\n",
        "path = kagglehub.dataset_download(\"prasunroy/natural-images\")\n",
        "\n",
        "print(\"Path to dataset files:\", path)"
      ],
      "metadata": {
        "id": "l6MvHdSq9GVS",
        "colab": {
          "base_uri": "https://localhost:8080/"
        },
        "outputId": "60fb0f3e-2c5e-47e2-f678-5575db6c3d73"
      },
      "execution_count": 18,
      "outputs": [
        {
          "output_type": "stream",
          "name": "stdout",
          "text": [
            "Path to dataset files: /kaggle/input/natural-images\n"
          ]
        }
      ]
    },
    {
      "cell_type": "code",
      "source": [
        "import shutil\n",
        "output='images'\n",
        "os.makedirs(output,exist_ok=True)\n",
        "img_exts=('.jpg','.png','jpeg')\n",
        "img_cnt=0\n",
        "for root,dirs,files in os.walk(path):\n",
        "  for file in files:\n",
        "    if file.lower().endswith(img_exts):\n",
        "      src_path=os.path.join(root,file)\n",
        "      dst_path=os.path.join(output,f\"{img_cnt:03d}_{file}\")\n",
        "      shutil.copy(src_path,dst_path)\n",
        "      img_cnt+=1\n",
        "      if img_cnt==100:\n",
        "        break\n",
        "  if img_cnt==100:\n",
        "        break\n",
        "\n"
      ],
      "metadata": {
        "id": "AH-rVW9oHje2"
      },
      "execution_count": 19,
      "outputs": []
    },
    {
      "cell_type": "code",
      "source": [
        "import os\n",
        "import cv2\n",
        "\n",
        "input_dir = '/content/images'\n",
        "resize = '/content/resize_images'\n",
        "os.makedirs(resize, exist_ok=True)\n",
        "\n",
        "for filename in os.listdir(input_dir):\n",
        "    file_path = os.path.join(input_dir, filename)\n",
        "\n",
        "    if filename.lower().endswith(('.png', '.jpg', '.jpeg')):\n",
        "        img = cv2.imread(file_path)\n",
        "        half = cv2.resize(img, (0, 0), fx = 0.1, fy = 0.1) #50% smaller\n",
        "\n",
        "        save_path = os.path.join(resize, filename)\n",
        "        cv2.imwrite(save_path, half)\n",
        "\n",
        "print(f\"Saved resized images to {resize}\")\n"
      ],
      "metadata": {
        "colab": {
          "base_uri": "https://localhost:8080/"
        },
        "id": "bj0Olu4xJoLz",
        "outputId": "7ba813a5-7912-4de2-b656-6c7b062e3d16"
      },
      "execution_count": 24,
      "outputs": [
        {
          "output_type": "stream",
          "name": "stdout",
          "text": [
            "Saved resized images to /content/resize_images\n"
          ]
        }
      ]
    }
  ]
}